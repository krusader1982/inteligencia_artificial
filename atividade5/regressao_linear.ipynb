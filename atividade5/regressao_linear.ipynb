{
 "cells": [
  {
   "cell_type": "code",
   "execution_count": 2,
   "id": "d85ee816",
   "metadata": {},
   "outputs": [],
   "source": [
    "import pandas as pd\n",
    "import matplotlib.pyplot as plt\n",
    "import numpy as np \n",
    "from sklearn.linear_model import LinearRegression "
   ]
  },
  {
   "cell_type": "code",
   "execution_count": 3,
   "id": "91eaf435",
   "metadata": {},
   "outputs": [],
   "source": [
    "df = pd.read_csv('house.csv', ';')"
   ]
  },
  {
   "cell_type": "code",
   "execution_count": 4,
   "id": "5f05c5e1",
   "metadata": {},
   "outputs": [
    {
     "data": {
      "text/html": [
       "<div>\n",
       "<style scoped>\n",
       "    .dataframe tbody tr th:only-of-type {\n",
       "        vertical-align: middle;\n",
       "    }\n",
       "\n",
       "    .dataframe tbody tr th {\n",
       "        vertical-align: top;\n",
       "    }\n",
       "\n",
       "    .dataframe thead th {\n",
       "        text-align: right;\n",
       "    }\n",
       "</style>\n",
       "<table border=\"1\" class=\"dataframe\">\n",
       "  <thead>\n",
       "    <tr style=\"text-align: right;\">\n",
       "      <th></th>\n",
       "      <th>houseSize</th>\n",
       "      <th>lotSize</th>\n",
       "      <th>bedrooms</th>\n",
       "      <th>granite</th>\n",
       "      <th>bathroom</th>\n",
       "      <th>sellingPrice</th>\n",
       "    </tr>\n",
       "  </thead>\n",
       "  <tbody>\n",
       "    <tr>\n",
       "      <th>0</th>\n",
       "      <td>3529</td>\n",
       "      <td>9191</td>\n",
       "      <td>6</td>\n",
       "      <td>0</td>\n",
       "      <td>0</td>\n",
       "      <td>205000</td>\n",
       "    </tr>\n",
       "    <tr>\n",
       "      <th>1</th>\n",
       "      <td>3247</td>\n",
       "      <td>10061</td>\n",
       "      <td>5</td>\n",
       "      <td>1</td>\n",
       "      <td>1</td>\n",
       "      <td>224900</td>\n",
       "    </tr>\n",
       "    <tr>\n",
       "      <th>2</th>\n",
       "      <td>4032</td>\n",
       "      <td>10150</td>\n",
       "      <td>5</td>\n",
       "      <td>0</td>\n",
       "      <td>1</td>\n",
       "      <td>197900</td>\n",
       "    </tr>\n",
       "    <tr>\n",
       "      <th>3</th>\n",
       "      <td>2397</td>\n",
       "      <td>14156</td>\n",
       "      <td>4</td>\n",
       "      <td>1</td>\n",
       "      <td>0</td>\n",
       "      <td>189900</td>\n",
       "    </tr>\n",
       "    <tr>\n",
       "      <th>4</th>\n",
       "      <td>2200</td>\n",
       "      <td>9600</td>\n",
       "      <td>4</td>\n",
       "      <td>0</td>\n",
       "      <td>1</td>\n",
       "      <td>195000</td>\n",
       "    </tr>\n",
       "    <tr>\n",
       "      <th>5</th>\n",
       "      <td>3536</td>\n",
       "      <td>19994</td>\n",
       "      <td>6</td>\n",
       "      <td>1</td>\n",
       "      <td>1</td>\n",
       "      <td>325000</td>\n",
       "    </tr>\n",
       "    <tr>\n",
       "      <th>6</th>\n",
       "      <td>2983</td>\n",
       "      <td>9365</td>\n",
       "      <td>5</td>\n",
       "      <td>0</td>\n",
       "      <td>1</td>\n",
       "      <td>230000</td>\n",
       "    </tr>\n",
       "  </tbody>\n",
       "</table>\n",
       "</div>"
      ],
      "text/plain": [
       "   houseSize  lotSize  bedrooms  granite  bathroom  sellingPrice\n",
       "0       3529     9191         6        0         0        205000\n",
       "1       3247    10061         5        1         1        224900\n",
       "2       4032    10150         5        0         1        197900\n",
       "3       2397    14156         4        1         0        189900\n",
       "4       2200     9600         4        0         1        195000\n",
       "5       3536    19994         6        1         1        325000\n",
       "6       2983     9365         5        0         1        230000"
      ]
     },
     "execution_count": 4,
     "metadata": {},
     "output_type": "execute_result"
    }
   ],
   "source": [
    "df"
   ]
  },
  {
   "cell_type": "markdown",
   "id": "22256365",
   "metadata": {},
   "source": [
    "# Regressão lotSize x sellingPrice"
   ]
  },
  {
   "cell_type": "code",
   "execution_count": 7,
   "id": "f53934d4",
   "metadata": {},
   "outputs": [],
   "source": [
    "x = np.array(df[['lotSize', 'houseSize', 'bedrooms', 'granite', 'bathroom']]).reshape((-1, 1))"
   ]
  },
  {
   "cell_type": "code",
   "execution_count": 18,
   "id": "ca9caf85",
   "metadata": {},
   "outputs": [],
   "source": [
    "y = np.array(df[['sellingPrice', 'sellingPrice', 'sellingPrice', 'sellingPrice', 'sellingPrice']]).reshape((-1, 1))"
   ]
  },
  {
   "cell_type": "code",
   "execution_count": 21,
   "id": "bf3df1ab",
   "metadata": {},
   "outputs": [
    {
     "data": {
      "text/plain": [
       "<matplotlib.collections.PathCollection at 0x7fccbbe9ebb0>"
      ]
     },
     "execution_count": 21,
     "metadata": {},
     "output_type": "execute_result"
    },
    {
     "data": {
      "image/png": "[encoded data removed]",
      "text/plain": [
       "<Figure size 432x288 with 1 Axes>"
      ]
     },
     "metadata": {
      "needs_background": "light"
     },
     "output_type": "display_data"
    }
   ],
   "source": [
    "plt.scatter(x, y,  color='blue', linewidth=3) "
   ]
  },
  {
   "cell_type": "code",
   "execution_count": 22,
   "id": "6489af95",
   "metadata": {},
   "outputs": [],
   "source": [
    "model = LinearRegression()"
   ]
  },
  {
   "cell_type": "code",
   "execution_count": 23,
   "id": "495df678",
   "metadata": {},
   "outputs": [
    {
     "data": {
      "text/plain": [
       "LinearRegression()"
      ]
     },
     "execution_count": 23,
     "metadata": {},
     "output_type": "execute_result"
    }
   ],
   "source": [
    "model.fit(x, y)"
   ]
  },
  {
   "cell_type": "code",
   "execution_count": 24,
   "id": "82c7433b",
   "metadata": {},
   "outputs": [],
   "source": [
    "reg = model.score(x, y)"
   ]
  },
  {
   "cell_type": "markdown",
   "id": "1dead132",
   "metadata": {},
   "source": [
    "## Coeficiente de Correlação"
   ]
  },
  {
   "cell_type": "code",
   "execution_count": 25,
   "id": "9fcf092f",
   "metadata": {},
   "outputs": [
    {
     "data": {
      "text/plain": [
       "0.016369563898140593"
      ]
     },
     "execution_count": 25,
     "metadata": {},
     "output_type": "execute_result"
    }
   ],
   "source": [
    "reg"
   ]
  },
  {
   "cell_type": "markdown",
   "id": "3abb17a0",
   "metadata": {},
   "source": [
    "## Cáclulo do Root Mean Square Error RMSE"
   ]
  },
  {
   "cell_type": "code",
   "execution_count": 26,
   "id": "29d6feac",
   "metadata": {},
   "outputs": [
    {
     "data": {
      "text/plain": [
       "1866623835.61799"
      ]
     },
     "execution_count": 26,
     "metadata": {},
     "output_type": "execute_result"
    }
   ],
   "source": [
    "np.mean((model.predict(x)-y)**2)"
   ]
  },
  {
   "cell_type": "code",
   "execution_count": 27,
   "id": "8c44c144",
   "metadata": {},
   "outputs": [
    {
     "data": {
      "text/plain": [
       "array([220536.44839236])"
      ]
     },
     "execution_count": 27,
     "metadata": {},
     "output_type": "execute_result"
    }
   ],
   "source": [
    "model.intercept_"
   ]
  },
  {
   "cell_type": "code",
   "execution_count": 28,
   "id": "0f5edd77",
   "metadata": {},
   "outputs": [
    {
     "data": {
      "text/plain": [
       "array([[1.14586258]])"
      ]
     },
     "execution_count": 28,
     "metadata": {},
     "output_type": "execute_result"
    }
   ],
   "source": [
    "model.coef_"
   ]
  },
  {
   "cell_type": "markdown",
   "id": "6157e323",
   "metadata": {},
   "source": [
    "## Predição"
   ]
  },
  {
   "cell_type": "code",
   "execution_count": 29,
   "id": "dcf49512",
   "metadata": {},
   "outputs": [],
   "source": [
    "x_prev = x"
   ]
  },
  {
   "cell_type": "code",
   "execution_count": 30,
   "id": "0e162c25",
   "metadata": {},
   "outputs": [],
   "source": [
    "y_prev = model.predict(x_prev)"
   ]
  },
  {
   "cell_type": "code",
   "execution_count": 31,
   "id": "7481ec58",
   "metadata": {},
   "outputs": [
    {
     "data": {
      "text/plain": [
       "array([[231068.07140549],\n",
       "       [224580.19745267],\n",
       "       [220543.32356787],\n",
       "       [220536.44839236],\n",
       "       [220536.44839236],\n",
       "       [232064.9718539 ],\n",
       "       [224257.06420387],\n",
       "       [220542.17770528],\n",
       "       [220537.59425495],\n",
       "       [220537.59425495],\n",
       "       [232166.95362392],\n",
       "       [225156.56633262],\n",
       "       [220542.17770528],\n",
       "       [220536.44839236],\n",
       "       [220537.59425495],\n",
       "       [236757.27913698],\n",
       "       [223283.08100714],\n",
       "       [220541.0318427 ],\n",
       "       [220537.59425495],\n",
       "       [220536.44839236],\n",
       "       [231536.7292025 ],\n",
       "       [223057.34607802],\n",
       "       [220541.0318427 ],\n",
       "       [220536.44839236],\n",
       "       [220537.59425495],\n",
       "       [243446.82490465],\n",
       "       [224588.21849076],\n",
       "       [220543.32356787],\n",
       "       [220537.59425495],\n",
       "       [220537.59425495],\n",
       "       [231267.45149517],\n",
       "       [223954.5564816 ],\n",
       "       [220542.17770528],\n",
       "       [220536.44839236],\n",
       "       [220537.59425495]])"
      ]
     },
     "execution_count": 31,
     "metadata": {},
     "output_type": "execute_result"
    }
   ],
   "source": [
    "y_prev"
   ]
  },
  {
   "cell_type": "code",
   "execution_count": 32,
   "id": "722bb0d4",
   "metadata": {},
   "outputs": [
    {
     "data": {
      "text/plain": [
       "231068.07140548568"
      ]
     },
     "execution_count": 32,
     "metadata": {},
     "output_type": "execute_result"
    }
   ],
   "source": [
    "y_prev[0][0]"
   ]
  },
  {
   "cell_type": "code",
   "execution_count": null,
   "id": "013f3bfa",
   "metadata": {},
   "outputs": [],
   "source": []
  }
 ],
 "metadata": {
  "kernelspec": {
   "display_name": "Python 3",
   "language": "python",
   "name": "python3"
  },
  "language_info": {
   "codemirror_mode": {
    "name": "ipython",
    "version": 3
   },
   "file_extension": ".py",
   "mimetype": "text/x-python",
   "name": "python",
   "nbconvert_exporter": "python",
   "pygments_lexer": "ipython3",
   "version": "3.8.8+"
  }
 },
 "nbformat": 4,
 "nbformat_minor": 5
}